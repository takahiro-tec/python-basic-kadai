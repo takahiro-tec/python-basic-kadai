{
  "nbformat": 4,
  "nbformat_minor": 0,
  "metadata": {
    "colab": {
      "provenance": []
    },
    "kernelspec": {
      "name": "python3",
      "display_name": "Python 3"
    },
    "language_info": {
      "name": "python"
    }
  },
  "cells": [
    {
      "cell_type": "code",
      "execution_count": 1,
      "metadata": {
        "colab": {
          "base_uri": "https://localhost:8080/"
        },
        "id": "v4ukvKl15J-m",
        "outputId": "1cc838b8-c2b4-4f77-ce28-c644204f1b7d"
      },
      "outputs": [
        {
          "output_type": "stream",
          "name": "stdout",
          "text": [
            "75.0cm²\n"
          ]
        }
      ],
      "source": [
        "\n",
        "\n",
        "# 上辺\n",
        "top_side = 10\n",
        "# 下辺\n",
        "bottom_side = 20\n",
        "# 高さ\n",
        "height = 5\n",
        "\n",
        "# 台形の面積を計算\n",
        "area = (top_side + bottom_side) * height / 2\n",
        "\n",
        "# 結果を出力\n",
        "print(str(area) + \"cm²\")\n"
      ]
    }
  ]
}