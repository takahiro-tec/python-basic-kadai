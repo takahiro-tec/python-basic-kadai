{
  "nbformat": 4,
  "nbformat_minor": 0,
  "metadata": {
    "colab": {
      "provenance": []
    },
    "kernelspec": {
      "name": "python3",
      "display_name": "Python 3"
    },
    "language_info": {
      "name": "python"
    }
  },
  "cells": [
    {
      "cell_type": "code",
      "execution_count": 6,
      "metadata": {
        "colab": {
          "base_uri": "https://localhost:8080/"
        },
        "id": "UF7IRtEMNh5u",
        "outputId": "10ef5e7d-a26b-4d3d-beeb-9c2405d3e26c"
      },
      "outputs": [
        {
          "output_type": "stream",
          "name": "stdout",
          "text": [
            "名前: 侍太郎\n",
            "年齢: 30\n"
          ]
        }
      ],
      "source": [
        "class Human:\n",
        "  def __init__(self, name, age):\n",
        "\n",
        "    self.name = name\n",
        "    self.age = age\n",
        "\n",
        "  def print_info(self):\n",
        "\n",
        "    print(f\"名前: {self.name}\")\n",
        "    print(f\"年齢: {self.age}\")\n",
        "\n",
        "# Humanクラスのインスタンスを作成\n",
        "person = Human(\"侍太郎\", 30)\n",
        "\n",
        "\n",
        "# 情報を出力\n",
        "person.print_info()\n"
      ]
    }
  ]
}