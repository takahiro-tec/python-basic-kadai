{
  "nbformat": 4,
  "nbformat_minor": 0,
  "metadata": {
    "colab": {
      "provenance": []
    },
    "kernelspec": {
      "name": "python3",
      "display_name": "Python 3"
    },
    "language_info": {
      "name": "python"
    }
  },
  "cells": [
    {
      "cell_type": "code",
      "execution_count": 3,
      "metadata": {
        "colab": {
          "base_uri": "https://localhost:8080/"
        },
        "id": "7nzcJRTMnAVV",
        "outputId": "c7e17ae2-6eb9-4f00-e372-e4f703ba846d"
      },
      "outputs": [
        {
          "output_type": "stream",
          "name": "stdout",
          "text": [
            "消費税を加えた合計金額は: 1100.0円\n"
          ]
        }
      ],
      "source": [
        "def calculate_total_price(price, tax_rate=0.10):\n",
        "\n",
        "    total_price = price * (1 + tax_rate)\n",
        "    return total_price\n",
        "\n",
        "# 使用例\n",
        "price = 1000  # 商品の金額\n",
        "total = calculate_total_price(price)\n",
        "print(f\"消費税を加えた合計金額は: {total}円\")\n"
      ]
    }
  ]
}