{
  "nbformat": 4,
  "nbformat_minor": 0,
  "metadata": {
    "colab": {
      "provenance": []
    },
    "kernelspec": {
      "name": "python3",
      "display_name": "Python 3"
    },
    "language_info": {
      "name": "python"
    }
  },
  "cells": [
    {
      "cell_type": "code",
      "execution_count": 2,
      "metadata": {
        "colab": {
          "base_uri": "https://localhost:8080/"
        },
        "id": "ORcxQD1vRXue",
        "outputId": "da8b88ce-5793-466d-b232-9b98d6cf84ef"
      },
      "outputs": [
        {
          "output_type": "stream",
          "name": "stdout",
          "text": [
            "水\n",
            "金\n",
            "地\n",
            "火\n",
            "木\n",
            "土\n",
            "天\n",
            "海\n",
            "冥\n",
            "水\n",
            "金\n",
            "地\n",
            "火\n",
            "木\n",
            "土\n",
            "天\n",
            "海\n",
            "冥\n"
          ]
        }
      ],
      "source": [
        "array = [\"水\",\"金\",\"地\",\"火\",\"木\",\"土\",\"天\",\"海\",\"冥\"]\n",
        "\n",
        "# forループ\n",
        "for i in range(1):\n",
        "  for element in array:\n",
        "    print(element)\n",
        "\n",
        "# whileループ\n",
        "i = 0\n",
        "while i < 1:\n",
        "  j = 0\n",
        "  while j < len(array):\n",
        "    print(array[j])\n",
        "    j += 1\n",
        "  i += 1\n"
      ]
    }
  ]
}