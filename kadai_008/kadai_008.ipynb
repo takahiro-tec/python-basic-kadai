{
  "nbformat": 4,
  "nbformat_minor": 0,
  "metadata": {
    "colab": {
      "provenance": []
    },
    "kernelspec": {
      "name": "python3",
      "display_name": "Python 3"
    },
    "language_info": {
      "name": "python"
    }
  },
  "cells": [
    {
      "cell_type": "code",
      "execution_count": 15,
      "metadata": {
        "colab": {
          "base_uri": "https://localhost:8080/"
        },
        "id": "3PNeAcCqOaFf",
        "outputId": "b3941e22-aef3-4aac-9900-2b718509a83e"
      },
      "outputs": [
        {
          "output_type": "stream",
          "name": "stdout",
          "text": [
            "164\n"
          ]
        }
      ],
      "source": [
        "\n",
        "# ・変数varが、3の倍数の場合は「Fizz」を出力\n",
        "# ・変数varが、5の倍数の場合は「Buzz」を出力\n",
        "# ・変数varが、3の倍数と5の倍数の両方に該当する場合は「FizzBuzz」を出力\n",
        "# ・上記のどの場合にも該当しない場合は、変数varの値を出力\n",
        "\n",
        "import random\n",
        "\n",
        "var = random.randint(1, 319)  # 1から319までのランダムな整数\n",
        "\n",
        "if var % 3 == 0 and var % 5 == 0:\n",
        "  print(\"FizzBuzz　確変\")\n",
        "elif var % 3 == 0:\n",
        "  print(\"Fizz　時短\")\n",
        "elif var % 5 == 0:\n",
        "  print(\"Buzz　通常\")\n",
        "else:\n",
        "  print(var)\n"
      ]
    }
  ]
}